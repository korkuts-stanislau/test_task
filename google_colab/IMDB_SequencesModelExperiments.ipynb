{
  "nbformat": 4,
  "nbformat_minor": 0,
  "metadata": {
    "colab": {
      "name": "SequencesModelExperiments.ipynb",
      "provenance": [],
      "collapsed_sections": []
    },
    "kernelspec": {
      "name": "python3",
      "display_name": "Python 3"
    },
    "accelerator": "GPU"
  },
  "cells": [
    {
      "cell_type": "code",
      "metadata": {
        "id": "cW2ujiWRjYdq",
        "outputId": "35dd5e94-cf8e-448b-b31b-a644130f81b7",
        "colab": {
          "base_uri": "https://localhost:8080/",
          "height": 35
        }
      },
      "source": [
        "import tensorflow as tf\n",
        "tf.test.gpu_device_name()"
      ],
      "execution_count": 1,
      "outputs": [
        {
          "output_type": "execute_result",
          "data": {
            "application/vnd.google.colaboratory.intrinsic+json": {
              "type": "string"
            },
            "text/plain": [
              "'/device:GPU:0'"
            ]
          },
          "metadata": {
            "tags": []
          },
          "execution_count": 1
        }
      ]
    },
    {
      "cell_type": "code",
      "metadata": {
        "id": "Qm-aBZ6Ujk4k"
      },
      "source": [
        "import pandas as pd"
      ],
      "execution_count": 2,
      "outputs": []
    },
    {
      "cell_type": "code",
      "metadata": {
        "id": "M1d_yZnOk6fS"
      },
      "source": [
        "data = pd.read_csv(\"IMDB_dataset.csv\")"
      ],
      "execution_count": 4,
      "outputs": []
    },
    {
      "cell_type": "code",
      "metadata": {
        "id": "wC6jdRXelBuN"
      },
      "source": [
        "data = pd.DataFrame({\"review\": data[\"review\"], \"sentiment\": data[\"sentiment\"].map({\"positive\": 1, \"negative\": 0})})"
      ],
      "execution_count": 5,
      "outputs": []
    },
    {
      "cell_type": "code",
      "metadata": {
        "id": "QKanDHiymq3n"
      },
      "source": [
        "from sklearn.model_selection import train_test_split"
      ],
      "execution_count": 6,
      "outputs": []
    },
    {
      "cell_type": "code",
      "metadata": {
        "id": "UO5unTZlmtkM"
      },
      "source": [
        "X_train, X_test, y_train, y_test = train_test_split(data.drop([\"sentiment\"], axis=1), data[\"sentiment\"], test_size=0.3, random_state=7)"
      ],
      "execution_count": 7,
      "outputs": []
    },
    {
      "cell_type": "code",
      "metadata": {
        "id": "aGM92URwmwnc"
      },
      "source": [
        "import re\n",
        "import string\n",
        "from spacy.lang.en.stop_words import STOP_WORDS as stop_words\n",
        "from spacy.lang.en import English"
      ],
      "execution_count": 8,
      "outputs": []
    },
    {
      "cell_type": "code",
      "metadata": {
        "id": "PdW4GI72mzUa"
      },
      "source": [
        "parser = English()\n",
        "punctuations = string.punctuation"
      ],
      "execution_count": 9,
      "outputs": []
    },
    {
      "cell_type": "code",
      "metadata": {
        "id": "jAUL3Mcrm0t4"
      },
      "source": [
        "def spacy_text_normalizer(text):\n",
        "    text = re.sub(r\"<.*>\", \"\", text) #Remove all tags\n",
        "    tokens = parser(text) #Get doc from text\n",
        "    tokens = [ word.lemma_.lower().strip() if word.lemma_ != \"-PRON-\" else word.lower_ for word in tokens ] #Normalize words\n",
        "    tokens = [ word for word in tokens if word not in stop_words and word not in punctuations ] #Remove stop words and punctuation\n",
        "    return \" \".join(tokens)"
      ],
      "execution_count": 10,
      "outputs": []
    },
    {
      "cell_type": "code",
      "metadata": {
        "id": "UpNo8aFem4I4",
        "outputId": "f55a3bac-acbd-4321-f4d3-255eae346231",
        "colab": {
          "base_uri": "https://localhost:8080/"
        }
      },
      "source": [
        "%%time\n",
        "X_train[\"review\"] = X_train[\"review\"].apply(spacy_text_normalizer)\n",
        "X_test[\"review\"] = X_test[\"review\"].apply(spacy_text_normalizer)"
      ],
      "execution_count": 12,
      "outputs": [
        {
          "output_type": "stream",
          "text": [
            "CPU times: user 51.4 s, sys: 142 ms, total: 51.5 s\n",
            "Wall time: 51.5 s\n"
          ],
          "name": "stdout"
        }
      ]
    },
    {
      "cell_type": "code",
      "metadata": {
        "id": "A4MCQE1anc5c"
      },
      "source": [
        "from keras.preprocessing.text import Tokenizer\n",
        "from keras.preprocessing.sequence import pad_sequences"
      ],
      "execution_count": 18,
      "outputs": []
    },
    {
      "cell_type": "code",
      "metadata": {
        "id": "5ZvAaBXVoEYu"
      },
      "source": [
        "def make_sequences_from_text(text_series, max_features=5000, maxlen=300):\n",
        "  tokenizer = Tokenizer(num_words=max_features)\n",
        "  tokenizer.fit_on_texts(text_series)\n",
        "  list_tokenized = tokenizer.texts_to_sequences(text_series)\n",
        "  return pad_sequences(list_tokenized, maxlen=maxlen)"
      ],
      "execution_count": 19,
      "outputs": []
    },
    {
      "cell_type": "code",
      "metadata": {
        "id": "1Ixna1xhoKEB",
        "outputId": "952d0e72-1707-4d4f-c08c-e9bb1e75900c",
        "colab": {
          "base_uri": "https://localhost:8080/"
        }
      },
      "source": [
        "%%time\n",
        "sequences = make_sequences_from_text(X_train[\"review\"])"
      ],
      "execution_count": 22,
      "outputs": [
        {
          "output_type": "stream",
          "text": [
            "CPU times: user 3.32 s, sys: 19.9 ms, total: 3.34 s\n",
            "Wall time: 3.34 s\n"
          ],
          "name": "stdout"
        }
      ]
    },
    {
      "cell_type": "code",
      "metadata": {
        "id": "BNgnfuy9peZJ",
        "outputId": "61642f68-b453-42d5-bcfb-34d4a1de99d8",
        "colab": {
          "base_uri": "https://localhost:8080/"
        }
      },
      "source": [
        "sequences"
      ],
      "execution_count": 24,
      "outputs": [
        {
          "output_type": "execute_result",
          "data": {
            "text/plain": [
              "array([[   0,    0,    0, ...,  187,   25,   25],\n",
              "       [   0,    0,    0, ..., 2105,  888,  206],\n",
              "       [   0,    0,    0, ..., 1136,    2,  111],\n",
              "       ...,\n",
              "       [   0,    0,    0, ..., 1519,  358,   25],\n",
              "       [   0,    0,    0, ..., 1684, 1157,  871],\n",
              "       [   0,    0,    0, ..., 1163,   23,   39]], dtype=int32)"
            ]
          },
          "metadata": {
            "tags": []
          },
          "execution_count": 24
        }
      ]
    },
    {
      "cell_type": "code",
      "metadata": {
        "id": "YoF25xYJpLEJ",
        "outputId": "29b29145-3e6f-465d-95d8-38c510ead1b6",
        "colab": {
          "base_uri": "https://localhost:8080/"
        }
      },
      "source": [
        "sequences.shape"
      ],
      "execution_count": 25,
      "outputs": [
        {
          "output_type": "execute_result",
          "data": {
            "text/plain": [
              "(35000, 300)"
            ]
          },
          "metadata": {
            "tags": []
          },
          "execution_count": 25
        }
      ]
    },
    {
      "cell_type": "code",
      "metadata": {
        "id": "4NSjGhgApucP"
      },
      "source": [
        "from keras.layers import Dense, LSTM, Embedding, Dropout\n",
        "from keras.layers import Bidirectional, GlobalMaxPool1D\n",
        "from keras.models import Sequential"
      ],
      "execution_count": 26,
      "outputs": []
    },
    {
      "cell_type": "code",
      "metadata": {
        "id": "YVLnGaT4pdAw"
      },
      "source": [
        "embed_size = 128\n",
        "model = Sequential()\n",
        "model.add(Embedding(max_features, embed_size))\n",
        "model.add(Bidirectional(LSTM(32, return_sequences = True)))\n",
        "model.add(GlobalMaxPool1D())\n",
        "model.add(Dense(20, activation=\"relu\"))\n",
        "model.add(Dropout(0.05))\n",
        "model.add(Dense(1, activation=\"sigmoid\"))\n",
        "model.compile(loss='binary_crossentropy', optimizer='adam', metrics=['accuracy'])"
      ],
      "execution_count": 30,
      "outputs": []
    },
    {
      "cell_type": "code",
      "metadata": {
        "id": "-DKNmAcNqP92",
        "outputId": "56a5bc09-5878-490e-8b0d-92e22e2d130e",
        "colab": {
          "base_uri": "https://localhost:8080/"
        }
      },
      "source": [
        "batch_size = 128\n",
        "epochs = 3\n",
        "model.fit(make_sequences_from_text(X_train[\"review\"]), y_train, batch_size=batch_size, epochs=epochs, validation_split=0.2)"
      ],
      "execution_count": 31,
      "outputs": [
        {
          "output_type": "stream",
          "text": [
            "Epoch 1/3\n",
            "219/219 [==============================] - 10s 47ms/step - loss: 0.4391 - accuracy: 0.7962 - val_loss: 0.3351 - val_accuracy: 0.8527\n",
            "Epoch 2/3\n",
            "219/219 [==============================] - 9s 43ms/step - loss: 0.2804 - accuracy: 0.8839 - val_loss: 0.3315 - val_accuracy: 0.8553\n",
            "Epoch 3/3\n",
            "219/219 [==============================] - 9s 43ms/step - loss: 0.2271 - accuracy: 0.9084 - val_loss: 0.3642 - val_accuracy: 0.8494\n"
          ],
          "name": "stdout"
        },
        {
          "output_type": "execute_result",
          "data": {
            "text/plain": [
              "<tensorflow.python.keras.callbacks.History at 0x7fa0735f0780>"
            ]
          },
          "metadata": {
            "tags": []
          },
          "execution_count": 31
        }
      ]
    },
    {
      "cell_type": "markdown",
      "metadata": {
        "id": "LxbU4N21qvoC"
      },
      "source": [
        "<h4>Model overfits. Need to make model weaker</h4>"
      ]
    },
    {
      "cell_type": "code",
      "metadata": {
        "id": "HBPFir9wqfkh"
      },
      "source": [
        "def tune_model(max_features_list, maxlen_list, embed_size_list, batch_size_list, dropout_list):\n",
        "  best_model = None\n",
        "  best_params = None\n",
        "  best_val_accuracy = 0\n",
        "  for max_features in max_features_list:\n",
        "    for maxlen in maxlen_list:\n",
        "      for embed_size in embed_size_list:\n",
        "        for batch_size in batch_size_list:\n",
        "          for dropout in dropout_list:\n",
        "            print({\"max_features\": max_features,\n",
        "                    \"maxlen\": maxlen,\n",
        "                    \"embed_size\": embed_size,\n",
        "                    \"batch_size\": batch_size,\n",
        "                    \"dropout\": dropout})\n",
        "            model = Sequential()\n",
        "            model.add(Embedding(max_features, embed_size))\n",
        "            model.add(Bidirectional(LSTM(32, return_sequences = True)))\n",
        "            model.add(GlobalMaxPool1D())\n",
        "            model.add(Dense(20, activation=\"relu\"))\n",
        "            model.add(Dropout(dropout))\n",
        "            model.add(Dense(1, activation=\"sigmoid\"))\n",
        "            model.compile(loss='binary_crossentropy', optimizer='adam', metrics=['accuracy'])\n",
        "            history = model.fit(make_sequences_from_text(X_train[\"review\"], max_features, maxlen), y_train, batch_size=batch_size, epochs=3, validation_split=0.2)\n",
        "            if model.history.history['val_accuracy'][-1] > best_val_accuracy:\n",
        "              best_val_accuracy = model.history.history['val_accuracy'][-1]\n",
        "              best_model = model\n",
        "              best_params = {\"max_features\": max_features,\n",
        "                             \"maxlen\": maxlen,\n",
        "                             \"embed_size\": embed_size,\n",
        "                             \"batch_size\": batch_size,\n",
        "                             \"dropout\": dropout}\n",
        "  return (best_model, best_params)"
      ],
      "execution_count": 39,
      "outputs": []
    },
    {
      "cell_type": "code",
      "metadata": {
        "id": "PZzQiEcVt3wn",
        "outputId": "0f74f9e0-bd08-46a5-a577-65ae198a3d37",
        "colab": {
          "base_uri": "https://localhost:8080/"
        }
      },
      "source": [
        "tune_model([5000, 10000, 20000], [300], [64, 128, 256], [128, 256], [0.1, 0.5])"
      ],
      "execution_count": 40,
      "outputs": [
        {
          "output_type": "stream",
          "text": [
            "{'max_features': 5000, 'maxlen': 300, 'embed_size': 64, 'batch_size': 128, 'dropout': 0.1}\n",
            "Epoch 1/3\n",
            "219/219 [==============================] - 9s 40ms/step - loss: 0.4830 - accuracy: 0.7592 - val_loss: 0.3614 - val_accuracy: 0.8399\n",
            "Epoch 2/3\n",
            "219/219 [==============================] - 8s 37ms/step - loss: 0.3114 - accuracy: 0.8681 - val_loss: 0.3500 - val_accuracy: 0.8446\n",
            "Epoch 3/3\n",
            "219/219 [==============================] - 8s 37ms/step - loss: 0.2592 - accuracy: 0.8932 - val_loss: 0.3500 - val_accuracy: 0.8467\n",
            "{'max_features': 5000, 'maxlen': 300, 'embed_size': 64, 'batch_size': 128, 'dropout': 0.5}\n",
            "Epoch 1/3\n",
            "219/219 [==============================] - 9s 40ms/step - loss: 0.5186 - accuracy: 0.7410 - val_loss: 0.3587 - val_accuracy: 0.8477\n",
            "Epoch 2/3\n",
            "219/219 [==============================] - 8s 37ms/step - loss: 0.3445 - accuracy: 0.8639 - val_loss: 0.3405 - val_accuracy: 0.8524\n",
            "Epoch 3/3\n",
            "219/219 [==============================] - 8s 37ms/step - loss: 0.2946 - accuracy: 0.8920 - val_loss: 0.3580 - val_accuracy: 0.8517\n",
            "{'max_features': 5000, 'maxlen': 300, 'embed_size': 64, 'batch_size': 256, 'dropout': 0.1}\n",
            "Epoch 1/3\n",
            "110/110 [==============================] - 6s 51ms/step - loss: 0.5473 - accuracy: 0.7273 - val_loss: 0.3594 - val_accuracy: 0.8469\n",
            "Epoch 2/3\n",
            "110/110 [==============================] - 5s 44ms/step - loss: 0.3334 - accuracy: 0.8583 - val_loss: 0.3424 - val_accuracy: 0.8514\n",
            "Epoch 3/3\n",
            "110/110 [==============================] - 5s 45ms/step - loss: 0.2776 - accuracy: 0.8862 - val_loss: 0.3524 - val_accuracy: 0.8491\n",
            "{'max_features': 5000, 'maxlen': 300, 'embed_size': 64, 'batch_size': 256, 'dropout': 0.5}\n",
            "Epoch 1/3\n",
            "110/110 [==============================] - 6s 51ms/step - loss: 0.5965 - accuracy: 0.6865 - val_loss: 0.4331 - val_accuracy: 0.8004\n",
            "Epoch 2/3\n",
            "110/110 [==============================] - 5s 45ms/step - loss: 0.3883 - accuracy: 0.8410 - val_loss: 0.3415 - val_accuracy: 0.8521\n",
            "Epoch 3/3\n",
            "110/110 [==============================] - 5s 45ms/step - loss: 0.3043 - accuracy: 0.8801 - val_loss: 0.3478 - val_accuracy: 0.8490\n",
            "{'max_features': 5000, 'maxlen': 300, 'embed_size': 128, 'batch_size': 128, 'dropout': 0.1}\n",
            "Epoch 1/3\n",
            "219/219 [==============================] - 10s 47ms/step - loss: 0.4366 - accuracy: 0.8013 - val_loss: 0.3360 - val_accuracy: 0.8530\n",
            "Epoch 2/3\n",
            "219/219 [==============================] - 10s 44ms/step - loss: 0.2835 - accuracy: 0.8829 - val_loss: 0.3463 - val_accuracy: 0.8527\n",
            "Epoch 3/3\n",
            "219/219 [==============================] - 10s 44ms/step - loss: 0.2307 - accuracy: 0.9066 - val_loss: 0.3678 - val_accuracy: 0.8493\n",
            "{'max_features': 5000, 'maxlen': 300, 'embed_size': 128, 'batch_size': 128, 'dropout': 0.5}\n",
            "Epoch 1/3\n",
            "219/219 [==============================] - 10s 47ms/step - loss: 0.4832 - accuracy: 0.7684 - val_loss: 0.3424 - val_accuracy: 0.8524\n",
            "Epoch 2/3\n",
            "219/219 [==============================] - 10s 43ms/step - loss: 0.3185 - accuracy: 0.8718 - val_loss: 0.3378 - val_accuracy: 0.8509\n",
            "Epoch 3/3\n",
            "219/219 [==============================] - 9s 43ms/step - loss: 0.2694 - accuracy: 0.8971 - val_loss: 0.3645 - val_accuracy: 0.8500\n",
            "{'max_features': 5000, 'maxlen': 300, 'embed_size': 128, 'batch_size': 256, 'dropout': 0.1}\n",
            "Epoch 1/3\n",
            "110/110 [==============================] - 7s 67ms/step - loss: 0.4897 - accuracy: 0.7798 - val_loss: 0.3410 - val_accuracy: 0.8560\n",
            "Epoch 2/3\n",
            "110/110 [==============================] - 7s 60ms/step - loss: 0.2954 - accuracy: 0.8776 - val_loss: 0.3444 - val_accuracy: 0.8527\n",
            "Epoch 3/3\n",
            "110/110 [==============================] - 7s 60ms/step - loss: 0.2456 - accuracy: 0.9021 - val_loss: 0.3541 - val_accuracy: 0.8529\n",
            "{'max_features': 5000, 'maxlen': 300, 'embed_size': 128, 'batch_size': 256, 'dropout': 0.5}\n",
            "Epoch 1/3\n",
            "110/110 [==============================] - 7s 67ms/step - loss: 0.5397 - accuracy: 0.7361 - val_loss: 0.3638 - val_accuracy: 0.8433\n",
            "Epoch 2/3\n",
            "110/110 [==============================] - 7s 60ms/step - loss: 0.3394 - accuracy: 0.8641 - val_loss: 0.3462 - val_accuracy: 0.8510\n",
            "Epoch 3/3\n",
            "110/110 [==============================] - 7s 60ms/step - loss: 0.2835 - accuracy: 0.8921 - val_loss: 0.3605 - val_accuracy: 0.8419\n",
            "{'max_features': 5000, 'maxlen': 300, 'embed_size': 256, 'batch_size': 128, 'dropout': 0.1}\n",
            "Epoch 1/3\n",
            "219/219 [==============================] - 14s 65ms/step - loss: 0.4296 - accuracy: 0.8051 - val_loss: 0.3351 - val_accuracy: 0.8497\n",
            "Epoch 2/3\n",
            "219/219 [==============================] - 13s 62ms/step - loss: 0.2832 - accuracy: 0.8820 - val_loss: 0.3387 - val_accuracy: 0.8563\n",
            "Epoch 3/3\n",
            "219/219 [==============================] - 14s 62ms/step - loss: 0.2253 - accuracy: 0.9114 - val_loss: 0.3630 - val_accuracy: 0.8524\n",
            "{'max_features': 5000, 'maxlen': 300, 'embed_size': 256, 'batch_size': 128, 'dropout': 0.5}\n",
            "Epoch 1/3\n",
            "219/219 [==============================] - 14s 63ms/step - loss: 0.5083 - accuracy: 0.7569 - val_loss: 0.3444 - val_accuracy: 0.8519\n",
            "Epoch 2/3\n",
            "219/219 [==============================] - 13s 60ms/step - loss: 0.3259 - accuracy: 0.8761 - val_loss: 0.3353 - val_accuracy: 0.8534\n",
            "Epoch 3/3\n",
            "219/219 [==============================] - 13s 60ms/step - loss: 0.2645 - accuracy: 0.9048 - val_loss: 0.3513 - val_accuracy: 0.8504\n",
            "{'max_features': 5000, 'maxlen': 300, 'embed_size': 256, 'batch_size': 256, 'dropout': 0.1}\n",
            "Epoch 1/3\n",
            "110/110 [==============================] - 11s 97ms/step - loss: 0.5131 - accuracy: 0.7387 - val_loss: 0.3531 - val_accuracy: 0.8480\n",
            "Epoch 2/3\n",
            "110/110 [==============================] - 10s 88ms/step - loss: 0.3156 - accuracy: 0.8694 - val_loss: 0.3495 - val_accuracy: 0.8463\n",
            "Epoch 3/3\n",
            "110/110 [==============================] - 10s 87ms/step - loss: 0.2613 - accuracy: 0.8961 - val_loss: 0.3524 - val_accuracy: 0.8481\n",
            "{'max_features': 5000, 'maxlen': 300, 'embed_size': 256, 'batch_size': 256, 'dropout': 0.5}\n",
            "Epoch 1/3\n",
            "110/110 [==============================] - 10s 94ms/step - loss: 0.5232 - accuracy: 0.7422 - val_loss: 0.3487 - val_accuracy: 0.8490\n",
            "Epoch 2/3\n",
            "110/110 [==============================] - 10s 88ms/step - loss: 0.3300 - accuracy: 0.8707 - val_loss: 0.3321 - val_accuracy: 0.8529\n",
            "Epoch 3/3\n",
            "110/110 [==============================] - 10s 87ms/step - loss: 0.2705 - accuracy: 0.8983 - val_loss: 0.3581 - val_accuracy: 0.8463\n",
            "{'max_features': 10000, 'maxlen': 300, 'embed_size': 64, 'batch_size': 128, 'dropout': 0.1}\n",
            "Epoch 1/3\n",
            "219/219 [==============================] - 9s 43ms/step - loss: 0.4742 - accuracy: 0.7719 - val_loss: 0.3312 - val_accuracy: 0.8584\n",
            "Epoch 2/3\n",
            "219/219 [==============================] - 8s 37ms/step - loss: 0.2748 - accuracy: 0.8884 - val_loss: 0.3288 - val_accuracy: 0.8564\n",
            "Epoch 3/3\n",
            "219/219 [==============================] - 8s 37ms/step - loss: 0.2012 - accuracy: 0.9235 - val_loss: 0.3672 - val_accuracy: 0.8524\n",
            "{'max_features': 10000, 'maxlen': 300, 'embed_size': 64, 'batch_size': 128, 'dropout': 0.5}\n",
            "Epoch 1/3\n",
            "219/219 [==============================] - 9s 41ms/step - loss: 0.5219 - accuracy: 0.7417 - val_loss: 0.3577 - val_accuracy: 0.8437\n",
            "Epoch 2/3\n",
            "219/219 [==============================] - 8s 37ms/step - loss: 0.3153 - accuracy: 0.8781 - val_loss: 0.3347 - val_accuracy: 0.8536\n",
            "Epoch 3/3\n",
            "219/219 [==============================] - 8s 38ms/step - loss: 0.2439 - accuracy: 0.9109 - val_loss: 0.3602 - val_accuracy: 0.8553\n",
            "{'max_features': 10000, 'maxlen': 300, 'embed_size': 64, 'batch_size': 256, 'dropout': 0.1}\n",
            "Epoch 1/3\n",
            "110/110 [==============================] - 6s 52ms/step - loss: 0.5741 - accuracy: 0.7057 - val_loss: 0.4376 - val_accuracy: 0.8116\n",
            "Epoch 2/3\n",
            "110/110 [==============================] - 5s 46ms/step - loss: 0.3671 - accuracy: 0.8467 - val_loss: 0.3806 - val_accuracy: 0.8377\n",
            "Epoch 3/3\n",
            "110/110 [==============================] - 5s 46ms/step - loss: 0.2667 - accuracy: 0.8920 - val_loss: 0.3426 - val_accuracy: 0.8571\n",
            "{'max_features': 10000, 'maxlen': 300, 'embed_size': 64, 'batch_size': 256, 'dropout': 0.5}\n",
            "Epoch 1/3\n",
            "110/110 [==============================] - 6s 52ms/step - loss: 0.5542 - accuracy: 0.7224 - val_loss: 0.3609 - val_accuracy: 0.8457\n",
            "Epoch 2/3\n",
            "110/110 [==============================] - 5s 46ms/step - loss: 0.3326 - accuracy: 0.8680 - val_loss: 0.3293 - val_accuracy: 0.8570\n",
            "Epoch 3/3\n",
            "110/110 [==============================] - 5s 46ms/step - loss: 0.2446 - accuracy: 0.9123 - val_loss: 0.3439 - val_accuracy: 0.8563\n",
            "{'max_features': 10000, 'maxlen': 300, 'embed_size': 128, 'batch_size': 128, 'dropout': 0.1}\n",
            "Epoch 1/3\n",
            "219/219 [==============================] - 11s 50ms/step - loss: 0.4530 - accuracy: 0.7904 - val_loss: 0.3243 - val_accuracy: 0.8596\n",
            "Epoch 2/3\n",
            "219/219 [==============================] - 10s 47ms/step - loss: 0.2579 - accuracy: 0.8973 - val_loss: 0.3270 - val_accuracy: 0.8633\n",
            "Epoch 3/3\n",
            "219/219 [==============================] - 10s 47ms/step - loss: 0.1808 - accuracy: 0.9314 - val_loss: 0.3772 - val_accuracy: 0.8580\n",
            "{'max_features': 10000, 'maxlen': 300, 'embed_size': 128, 'batch_size': 128, 'dropout': 0.5}\n",
            "Epoch 1/3\n",
            "219/219 [==============================] - 11s 50ms/step - loss: 0.5204 - accuracy: 0.7458 - val_loss: 0.3792 - val_accuracy: 0.8414\n",
            "Epoch 2/3\n",
            "219/219 [==============================] - 10s 47ms/step - loss: 0.3487 - accuracy: 0.8714 - val_loss: 0.3477 - val_accuracy: 0.8516\n",
            "Epoch 3/3\n",
            "219/219 [==============================] - 10s 48ms/step - loss: 0.2678 - accuracy: 0.9150 - val_loss: 0.3570 - val_accuracy: 0.8549\n",
            "{'max_features': 10000, 'maxlen': 300, 'embed_size': 128, 'batch_size': 256, 'dropout': 0.1}\n",
            "Epoch 1/3\n",
            "110/110 [==============================] - 8s 73ms/step - loss: 0.4936 - accuracy: 0.7729 - val_loss: 0.3388 - val_accuracy: 0.8559\n",
            "Epoch 2/3\n",
            "110/110 [==============================] - 7s 66ms/step - loss: 0.2754 - accuracy: 0.8879 - val_loss: 0.3226 - val_accuracy: 0.8629\n",
            "Epoch 3/3\n",
            "110/110 [==============================] - 7s 67ms/step - loss: 0.1958 - accuracy: 0.9250 - val_loss: 0.3603 - val_accuracy: 0.8569\n",
            "{'max_features': 10000, 'maxlen': 300, 'embed_size': 128, 'batch_size': 256, 'dropout': 0.5}\n",
            "Epoch 1/3\n",
            "110/110 [==============================] - 8s 72ms/step - loss: 0.5492 - accuracy: 0.7236 - val_loss: 0.3510 - val_accuracy: 0.8493\n",
            "Epoch 2/3\n",
            "110/110 [==============================] - 7s 67ms/step - loss: 0.3122 - accuracy: 0.8790 - val_loss: 0.3299 - val_accuracy: 0.8570\n",
            "Epoch 3/3\n",
            "110/110 [==============================] - 7s 67ms/step - loss: 0.2358 - accuracy: 0.9176 - val_loss: 0.3460 - val_accuracy: 0.8586\n",
            "{'max_features': 10000, 'maxlen': 300, 'embed_size': 256, 'batch_size': 128, 'dropout': 0.1}\n",
            "Epoch 1/3\n",
            "219/219 [==============================] - 17s 76ms/step - loss: 0.4418 - accuracy: 0.8025 - val_loss: 0.3259 - val_accuracy: 0.8590\n",
            "Epoch 2/3\n",
            "219/219 [==============================] - 16s 72ms/step - loss: 0.2531 - accuracy: 0.8986 - val_loss: 0.3457 - val_accuracy: 0.8541\n",
            "Epoch 3/3\n",
            "219/219 [==============================] - 16s 71ms/step - loss: 0.1782 - accuracy: 0.9342 - val_loss: 0.3800 - val_accuracy: 0.8546\n",
            "{'max_features': 10000, 'maxlen': 300, 'embed_size': 256, 'batch_size': 128, 'dropout': 0.5}\n",
            "Epoch 1/3\n",
            "219/219 [==============================] - 16s 74ms/step - loss: 0.4845 - accuracy: 0.7744 - val_loss: 0.3389 - val_accuracy: 0.8573\n",
            "Epoch 2/3\n",
            "219/219 [==============================] - 16s 71ms/step - loss: 0.2954 - accuracy: 0.8924 - val_loss: 0.3413 - val_accuracy: 0.8580\n",
            "Epoch 3/3\n",
            "219/219 [==============================] - 15s 71ms/step - loss: 0.2179 - accuracy: 0.9268 - val_loss: 0.3712 - val_accuracy: 0.8537\n",
            "{'max_features': 10000, 'maxlen': 300, 'embed_size': 256, 'batch_size': 256, 'dropout': 0.1}\n",
            "Epoch 1/3\n",
            "110/110 [==============================] - 12s 105ms/step - loss: 0.5015 - accuracy: 0.7562 - val_loss: 0.3529 - val_accuracy: 0.8500\n",
            "Epoch 2/3\n",
            "110/110 [==============================] - 11s 100ms/step - loss: 0.2854 - accuracy: 0.8849 - val_loss: 0.3334 - val_accuracy: 0.8547\n",
            "Epoch 3/3\n",
            "110/110 [==============================] - 11s 100ms/step - loss: 0.2062 - accuracy: 0.9230 - val_loss: 0.3780 - val_accuracy: 0.8499\n",
            "{'max_features': 10000, 'maxlen': 300, 'embed_size': 256, 'batch_size': 256, 'dropout': 0.5}\n",
            "Epoch 1/3\n",
            "110/110 [==============================] - 12s 110ms/step - loss: 0.5293 - accuracy: 0.7410 - val_loss: 0.3541 - val_accuracy: 0.8454\n",
            "Epoch 2/3\n",
            "110/110 [==============================] - 11s 100ms/step - loss: 0.3105 - accuracy: 0.8820 - val_loss: 0.3420 - val_accuracy: 0.8437\n",
            "Epoch 3/3\n",
            "110/110 [==============================] - 11s 101ms/step - loss: 0.2340 - accuracy: 0.9183 - val_loss: 0.3675 - val_accuracy: 0.8534\n",
            "{'max_features': 20000, 'maxlen': 300, 'embed_size': 64, 'batch_size': 128, 'dropout': 0.1}\n",
            "Epoch 1/3\n",
            "219/219 [==============================] - 10s 48ms/step - loss: 0.4605 - accuracy: 0.7751 - val_loss: 0.3311 - val_accuracy: 0.8570\n",
            "Epoch 2/3\n",
            "219/219 [==============================] - 10s 44ms/step - loss: 0.2468 - accuracy: 0.9021 - val_loss: 0.3423 - val_accuracy: 0.8536\n",
            "Epoch 3/3\n",
            "219/219 [==============================] - 9s 43ms/step - loss: 0.1579 - accuracy: 0.9412 - val_loss: 0.4121 - val_accuracy: 0.8459\n",
            "{'max_features': 20000, 'maxlen': 300, 'embed_size': 64, 'batch_size': 128, 'dropout': 0.5}\n",
            "Epoch 1/3\n",
            "219/219 [==============================] - 10s 46ms/step - loss: 0.5277 - accuracy: 0.7284 - val_loss: 0.3356 - val_accuracy: 0.8541\n",
            "Epoch 2/3\n",
            "219/219 [==============================] - 10s 44ms/step - loss: 0.3026 - accuracy: 0.8798 - val_loss: 0.3245 - val_accuracy: 0.8579\n",
            "Epoch 3/3\n",
            "219/219 [==============================] - 10s 44ms/step - loss: 0.2025 - accuracy: 0.9300 - val_loss: 0.3588 - val_accuracy: 0.8560\n",
            "{'max_features': 20000, 'maxlen': 300, 'embed_size': 64, 'batch_size': 256, 'dropout': 0.1}\n",
            "Epoch 1/3\n",
            "110/110 [==============================] - 6s 58ms/step - loss: 0.5480 - accuracy: 0.7344 - val_loss: 0.3835 - val_accuracy: 0.8260\n",
            "Epoch 2/3\n",
            "110/110 [==============================] - 6s 52ms/step - loss: 0.2923 - accuracy: 0.8800 - val_loss: 0.3260 - val_accuracy: 0.8571\n",
            "Epoch 3/3\n",
            "110/110 [==============================] - 6s 52ms/step - loss: 0.1864 - accuracy: 0.9302 - val_loss: 0.3744 - val_accuracy: 0.8559\n",
            "{'max_features': 20000, 'maxlen': 300, 'embed_size': 64, 'batch_size': 256, 'dropout': 0.5}\n",
            "Epoch 1/3\n",
            "110/110 [==============================] - 6s 58ms/step - loss: 0.5797 - accuracy: 0.7006 - val_loss: 0.3971 - val_accuracy: 0.8137\n",
            "Epoch 2/3\n",
            "110/110 [==============================] - 6s 54ms/step - loss: 0.3270 - accuracy: 0.8692 - val_loss: 0.3353 - val_accuracy: 0.8554\n",
            "Epoch 3/3\n",
            "110/110 [==============================] - 6s 52ms/step - loss: 0.2195 - accuracy: 0.9218 - val_loss: 0.3546 - val_accuracy: 0.8524\n",
            "{'max_features': 20000, 'maxlen': 300, 'embed_size': 128, 'batch_size': 128, 'dropout': 0.1}\n",
            "Epoch 1/3\n",
            "219/219 [==============================] - 14s 64ms/step - loss: 0.4641 - accuracy: 0.7694 - val_loss: 0.3375 - val_accuracy: 0.8507\n",
            "Epoch 2/3\n",
            "219/219 [==============================] - 13s 61ms/step - loss: 0.2398 - accuracy: 0.9065 - val_loss: 0.3297 - val_accuracy: 0.8593\n",
            "Epoch 3/3\n",
            "219/219 [==============================] - 13s 60ms/step - loss: 0.1432 - accuracy: 0.9496 - val_loss: 0.4100 - val_accuracy: 0.8477\n",
            "{'max_features': 20000, 'maxlen': 300, 'embed_size': 128, 'batch_size': 128, 'dropout': 0.5}\n",
            "Epoch 1/3\n",
            "219/219 [==============================] - 14s 63ms/step - loss: 0.4989 - accuracy: 0.7583 - val_loss: 0.3253 - val_accuracy: 0.8624\n",
            "Epoch 2/3\n",
            "219/219 [==============================] - 13s 59ms/step - loss: 0.2732 - accuracy: 0.9019 - val_loss: 0.3291 - val_accuracy: 0.8619\n",
            "Epoch 3/3\n",
            "219/219 [==============================] - 13s 60ms/step - loss: 0.1836 - accuracy: 0.9445 - val_loss: 0.3713 - val_accuracy: 0.8520\n",
            "{'max_features': 20000, 'maxlen': 300, 'embed_size': 128, 'batch_size': 256, 'dropout': 0.1}\n",
            "Epoch 1/3\n",
            "110/110 [==============================] - 9s 85ms/step - loss: 0.5294 - accuracy: 0.7421 - val_loss: 0.3534 - val_accuracy: 0.8516\n",
            "Epoch 2/3\n",
            "110/110 [==============================] - 8s 77ms/step - loss: 0.2846 - accuracy: 0.8846 - val_loss: 0.3364 - val_accuracy: 0.8560\n",
            "Epoch 3/3\n",
            "110/110 [==============================] - 8s 77ms/step - loss: 0.1806 - accuracy: 0.9341 - val_loss: 0.3715 - val_accuracy: 0.8550\n",
            "{'max_features': 20000, 'maxlen': 300, 'embed_size': 128, 'batch_size': 256, 'dropout': 0.5}\n",
            "Epoch 1/3\n",
            "110/110 [==============================] - 9s 84ms/step - loss: 0.5409 - accuracy: 0.7260 - val_loss: 0.3562 - val_accuracy: 0.8489\n",
            "Epoch 2/3\n",
            "110/110 [==============================] - 8s 77ms/step - loss: 0.2926 - accuracy: 0.8896 - val_loss: 0.3324 - val_accuracy: 0.8617\n",
            "Epoch 3/3\n",
            "110/110 [==============================] - 8s 77ms/step - loss: 0.1913 - accuracy: 0.9358 - val_loss: 0.3657 - val_accuracy: 0.8549\n",
            "{'max_features': 20000, 'maxlen': 300, 'embed_size': 256, 'batch_size': 128, 'dropout': 0.1}\n",
            "Epoch 1/3\n",
            "219/219 [==============================] - 24s 110ms/step - loss: 0.4272 - accuracy: 0.8033 - val_loss: 0.3106 - val_accuracy: 0.8651\n",
            "Epoch 2/3\n",
            "219/219 [==============================] - 22s 102ms/step - loss: 0.2194 - accuracy: 0.9158 - val_loss: 0.3238 - val_accuracy: 0.8621\n",
            "Epoch 3/3\n",
            "219/219 [==============================] - 23s 103ms/step - loss: 0.1229 - accuracy: 0.9565 - val_loss: 0.4204 - val_accuracy: 0.8513\n",
            "{'max_features': 20000, 'maxlen': 300, 'embed_size': 256, 'batch_size': 128, 'dropout': 0.5}\n",
            "Epoch 1/3\n",
            "219/219 [==============================] - 24s 110ms/step - loss: 0.4759 - accuracy: 0.7707 - val_loss: 0.3351 - val_accuracy: 0.8521\n",
            "Epoch 2/3\n",
            "219/219 [==============================] - 22s 99ms/step - loss: 0.2667 - accuracy: 0.9026 - val_loss: 0.3276 - val_accuracy: 0.8556\n",
            "Epoch 3/3\n",
            "219/219 [==============================] - 22s 102ms/step - loss: 0.1697 - accuracy: 0.9446 - val_loss: 0.3980 - val_accuracy: 0.8521\n",
            "{'max_features': 20000, 'maxlen': 300, 'embed_size': 256, 'batch_size': 256, 'dropout': 0.1}\n",
            "Epoch 1/3\n",
            "110/110 [==============================] - 14s 131ms/step - loss: 0.4829 - accuracy: 0.7825 - val_loss: 0.3244 - val_accuracy: 0.8544\n",
            "Epoch 2/3\n",
            "110/110 [==============================] - 13s 122ms/step - loss: 0.2402 - accuracy: 0.9049 - val_loss: 0.3301 - val_accuracy: 0.8603\n",
            "Epoch 3/3\n",
            "110/110 [==============================] - 13s 122ms/step - loss: 0.1419 - accuracy: 0.9489 - val_loss: 0.3896 - val_accuracy: 0.8537\n",
            "{'max_features': 20000, 'maxlen': 300, 'embed_size': 256, 'batch_size': 256, 'dropout': 0.5}\n",
            "Epoch 1/3\n",
            "110/110 [==============================] - 14s 129ms/step - loss: 0.5176 - accuracy: 0.7495 - val_loss: 0.3275 - val_accuracy: 0.8587\n",
            "Epoch 2/3\n",
            "110/110 [==============================] - 13s 121ms/step - loss: 0.2734 - accuracy: 0.8980 - val_loss: 0.3408 - val_accuracy: 0.8586\n",
            "Epoch 3/3\n",
            "110/110 [==============================] - 13s 122ms/step - loss: 0.1741 - accuracy: 0.9436 - val_loss: 0.3839 - val_accuracy: 0.8570\n"
          ],
          "name": "stdout"
        },
        {
          "output_type": "execute_result",
          "data": {
            "text/plain": [
              "(<tensorflow.python.keras.engine.sequential.Sequential at 0x7f9feec4bda0>,\n",
              " {'batch_size': 256,\n",
              "  'dropout': 0.5,\n",
              "  'embed_size': 256,\n",
              "  'max_features': 20000,\n",
              "  'maxlen': 300})"
            ]
          },
          "metadata": {
            "tags": []
          },
          "execution_count": 40
        }
      ]
    },
    {
      "cell_type": "markdown",
      "metadata": {
        "id": "_m2JwMYA4EE8"
      },
      "source": [
        "<h4>All models overfits. I think there is some problem with data. More thorough data analysis needs to be done.</h4>"
      ]
    }
  ]
}